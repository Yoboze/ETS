{
 "cells": [
  {
   "cell_type": "code",
   "execution_count": 1,
   "id": "71c07277-304c-4d83-b691-817ffebaa178",
   "metadata": {
    "tags": []
   },
   "outputs": [
    {
     "name": "stderr",
     "output_type": "stream",
     "text": [
      "/tmp/ipykernel_11096/4270301841.py:21: FutureWarning: Series.view is deprecated and will be removed in a future version. Use ``astype`` as an alternative to change the dtype.\n",
      "  merged_data['order_sumitted'] = merged_data['submit_datetime'].view('int64')/ 1e9\n"
     ]
    },
    {
     "name": "stdout",
     "output_type": "stream",
     "text": [
      "The final target data has been saved to: Final_Target.csv\n"
     ]
    }
   ],
   "source": [
    "import pandas as pd\n",
    "\n",
    "# Load the order and profile data\n",
    "order_data_path = 'order_data.csv'\n",
    "profile_data_path = 'profile_created_data.csv'\n",
    "ages_country_data_path = 'user_profile_2024.7.20.csv'\n",
    "\n",
    "order_data = pd.read_csv(order_data_path)\n",
    "profile_data = pd.read_csv(profile_data_path)\n",
    "ages_country_df = pd.read_csv(ages_country_data_path)\n",
    "\n",
    "# Merge the order data with the profile data based on 'user_id'\n",
    "merged_data = pd.merge(order_data, profile_data, on='user_id', how='inner')\n",
    "\n",
    "\n",
    "# Convert microseconds to seconds\n",
    "merged_data['profile_created_time_sec'] = merged_data['profile_created_time'] / 1e6\n",
    "\n",
    "# Convert the datetime strings to pandas datetime objects, handling mixed formats\n",
    "merged_data['submit_datetime'] = pd.to_datetime(merged_data['submit_datetime'], errors='coerce')\n",
    "merged_data['order_sumitted'] = merged_data['submit_datetime'].view('int64')/ 1e9\n",
    "\n",
    "# Calculate the time difference in seconds between order submission and profile creation\n",
    "merged_data['time_diff_sec'] = (merged_data['order_sumitted'] - merged_data['profile_created_time_sec'])\n",
    "\n",
    "\n",
    "# Merge the resulting dataframe with ages and country data based on 'ETS_PROFILE_ID'\n",
    "merged_data_with_country_age = pd.merge(merged_data, ages_country_df[['ETS_PROFILE_ID', 'COUNTRY', 'AGE']], left_on='user_id', right_on='ETS_PROFILE_ID', how='inner')\n",
    "\n",
    "# Drop the redundant 'ETS_PROFILE_ID' column from the merged dataframe\n",
    "merged_data_with_country_age.drop(columns=['ETS_PROFILE_ID'], inplace=True)\n",
    "\n",
    "# Save the final merged dataframe to a CSV file\n",
    "output_path = 'Final_Target.parquet'\n",
    "merged_data_with_country_age.to_parquet(output_path, index=False)\n",
    "\n",
    "# Save the final merged dataframe to a CSV file\n",
    "output_path = 'Final_Target.csv'\n",
    "merged_data_with_country_age.to_csv(output_path, index=False)\n",
    "\n",
    "# Display the path to the saved file\n",
    "print(f'The final target data has been saved to: {output_path}')"
   ]
  },
  {
   "cell_type": "code",
   "execution_count": null,
   "id": "1cb257c6-013d-4777-b5c4-86414fdfa7f8",
   "metadata": {},
   "outputs": [],
   "source": []
  }
 ],
 "metadata": {
  "kernelspec": {
   "display_name": "conda_python3",
   "language": "python",
   "name": "conda_python3"
  },
  "language_info": {
   "codemirror_mode": {
    "name": "ipython",
    "version": 3
   },
   "file_extension": ".py",
   "mimetype": "text/x-python",
   "name": "python",
   "nbconvert_exporter": "python",
   "pygments_lexer": "ipython3",
   "version": "3.10.14"
  }
 },
 "nbformat": 4,
 "nbformat_minor": 5
}
